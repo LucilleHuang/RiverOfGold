{
 "cells": [
  {
   "cell_type": "code",
   "execution_count": 39,
   "metadata": {},
   "outputs": [],
   "source": [
    "import pandas as pd\n",
    "import numpy as np\n",
    "from datetime import datetime"
   ]
  },
  {
   "cell_type": "code",
   "execution_count": 47,
   "metadata": {},
   "outputs": [
    {
     "data": {
      "text/html": [
       "<div>\n",
       "<style scoped>\n",
       "    .dataframe tbody tr th:only-of-type {\n",
       "        vertical-align: middle;\n",
       "    }\n",
       "\n",
       "    .dataframe tbody tr th {\n",
       "        vertical-align: top;\n",
       "    }\n",
       "\n",
       "    .dataframe thead th {\n",
       "        text-align: right;\n",
       "    }\n",
       "</style>\n",
       "<table border=\"1\" class=\"dataframe\">\n",
       "  <thead>\n",
       "    <tr style=\"text-align: right;\">\n",
       "      <th></th>\n",
       "      <th>例子</th>\n",
       "      <th>保险公司</th>\n",
       "      <th>保险单号</th>\n",
       "      <th>类型</th>\n",
       "      <th>开始日期：年</th>\n",
       "      <th>月</th>\n",
       "      <th>日</th>\n",
       "      <th>支付金额</th>\n",
       "      <th>每年交费次数</th>\n",
       "      <th>交费期间（年）</th>\n",
       "      <th>保险期间（年）</th>\n",
       "      <th>返还金额</th>\n",
       "      <th>返还周期（月）</th>\n",
       "      <th>返还持续时间（年）</th>\n",
       "      <th>返还比例（%）</th>\n",
       "    </tr>\n",
       "  </thead>\n",
       "  <tbody>\n",
       "    <tr>\n",
       "      <th>0</th>\n",
       "      <td>到期返还带利率</td>\n",
       "      <td>NaN</td>\n",
       "      <td>NaN</td>\n",
       "      <td>一次支付</td>\n",
       "      <td>2021</td>\n",
       "      <td>1</td>\n",
       "      <td>1</td>\n",
       "      <td>1000</td>\n",
       "      <td>NaN</td>\n",
       "      <td>NaN</td>\n",
       "      <td>2.0</td>\n",
       "      <td>1100.00</td>\n",
       "      <td>NaN</td>\n",
       "      <td>NaN</td>\n",
       "      <td>1.1</td>\n",
       "    </tr>\n",
       "    <tr>\n",
       "      <th>1</th>\n",
       "      <td>每月支付，为期一年</td>\n",
       "      <td>NaN</td>\n",
       "      <td>NaN</td>\n",
       "      <td>分期付款</td>\n",
       "      <td>2021</td>\n",
       "      <td>2</td>\n",
       "      <td>1</td>\n",
       "      <td>200</td>\n",
       "      <td>12.0</td>\n",
       "      <td>1.0</td>\n",
       "      <td>NaN</td>\n",
       "      <td>NaN</td>\n",
       "      <td>NaN</td>\n",
       "      <td>NaN</td>\n",
       "      <td>NaN</td>\n",
       "    </tr>\n",
       "    <tr>\n",
       "      <th>2</th>\n",
       "      <td>前五年每年付款，后二十年每月返还</td>\n",
       "      <td>NaN</td>\n",
       "      <td>NaN</td>\n",
       "      <td>年金保险</td>\n",
       "      <td>2021</td>\n",
       "      <td>3</td>\n",
       "      <td>1</td>\n",
       "      <td>10000</td>\n",
       "      <td>1.0</td>\n",
       "      <td>5.0</td>\n",
       "      <td>NaN</td>\n",
       "      <td>208.33</td>\n",
       "      <td>1.0</td>\n",
       "      <td>20.0</td>\n",
       "      <td>1.1</td>\n",
       "    </tr>\n",
       "    <tr>\n",
       "      <th>3</th>\n",
       "      <td>2013年7月15日开始扣款，每月1000元，扣十年。满20年，返已交保费的1.3倍</td>\n",
       "      <td>NaN</td>\n",
       "      <td>NaN</td>\n",
       "      <td>年金保险？</td>\n",
       "      <td>2013</td>\n",
       "      <td>7</td>\n",
       "      <td>15</td>\n",
       "      <td>1000</td>\n",
       "      <td>12.0</td>\n",
       "      <td>10.0</td>\n",
       "      <td>20.0</td>\n",
       "      <td>NaN</td>\n",
       "      <td>NaN</td>\n",
       "      <td>NaN</td>\n",
       "      <td>0.3</td>\n",
       "    </tr>\n",
       "    <tr>\n",
       "      <th>4</th>\n",
       "      <td>都来保险</td>\n",
       "      <td>NaN</td>\n",
       "      <td>NaN</td>\n",
       "      <td>分期付满期返</td>\n",
       "      <td>2019</td>\n",
       "      <td>3</td>\n",
       "      <td>28</td>\n",
       "      <td>720</td>\n",
       "      <td>12.0</td>\n",
       "      <td>10.0</td>\n",
       "      <td>20.0</td>\n",
       "      <td>475200.00</td>\n",
       "      <td>NaN</td>\n",
       "      <td>NaN</td>\n",
       "      <td>1.1</td>\n",
       "    </tr>\n",
       "    <tr>\n",
       "      <th>5</th>\n",
       "      <td>意外险</td>\n",
       "      <td>NaN</td>\n",
       "      <td>NaN</td>\n",
       "      <td>消费型</td>\n",
       "      <td>2020</td>\n",
       "      <td>6</td>\n",
       "      <td>1</td>\n",
       "      <td>397</td>\n",
       "      <td>12.0</td>\n",
       "      <td>10.0</td>\n",
       "      <td>NaN</td>\n",
       "      <td>NaN</td>\n",
       "      <td>NaN</td>\n",
       "      <td>NaN</td>\n",
       "      <td>NaN</td>\n",
       "    </tr>\n",
       "  </tbody>\n",
       "</table>\n",
       "</div>"
      ],
      "text/plain": [
       "                                           例子  保险公司  保险单号      类型  开始日期：年  月  \\\n",
       "0                                     到期返还带利率   NaN   NaN    一次支付    2021  1   \n",
       "1                                   每月支付，为期一年   NaN   NaN    分期付款    2021  2   \n",
       "2                            前五年每年付款，后二十年每月返还   NaN   NaN    年金保险    2021  3   \n",
       "3  2013年7月15日开始扣款，每月1000元，扣十年。满20年，返已交保费的1.3倍   NaN   NaN   年金保险？    2013  7   \n",
       "4                                        都来保险   NaN   NaN  分期付满期返    2019  3   \n",
       "5                                         意外险   NaN   NaN     消费型    2020  6   \n",
       "\n",
       "    日   支付金额  每年交费次数  交费期间（年）  保险期间（年）       返还金额  返还周期（月）  返还持续时间（年）  返还比例（%）  \n",
       "0   1   1000     NaN      NaN      2.0    1100.00      NaN        NaN      1.1  \n",
       "1   1    200    12.0      1.0      NaN        NaN      NaN        NaN      NaN  \n",
       "2   1  10000     1.0      5.0      NaN     208.33      1.0       20.0      1.1  \n",
       "3  15   1000    12.0     10.0     20.0        NaN      NaN        NaN      0.3  \n",
       "4  28    720    12.0     10.0     20.0  475200.00      NaN        NaN      1.1  \n",
       "5   1    397    12.0     10.0      NaN        NaN      NaN        NaN      NaN  "
      ]
     },
     "execution_count": 47,
     "metadata": {},
     "output_type": "execute_result"
    }
   ],
   "source": [
    "records = pd.read_excel (r'Records.xlsx')\n",
    "records"
   ]
  },
  {
   "cell_type": "code",
   "execution_count": 59,
   "metadata": {},
   "outputs": [
    {
     "data": {
      "text/plain": [
       "[1000, 1200.0, 10000, 97000.0, 20880.0, 5558.0]"
      ]
     },
     "execution_count": 59,
     "metadata": {},
     "output_type": "execute_result"
    }
   ],
   "source": [
    "today = datetime.today()\n",
    "total_payed = []\n",
    "for row in range(df.shape[0]):\n",
    "    first_pay_date = datetime(records.iloc[row]['开始日期：年'], records.iloc[row]['月'], records.iloc[row]['日'])\n",
    "    \n",
    "    if np.isnan(records.iloc[row]['每年交费次数']):\n",
    "        paid=records.iloc[row]['支付金额']\n",
    "    elif records.iloc[row]['每年交费次数'] ==1:\n",
    "        paid=((today.year-records.iloc[row]['开始日期：年']+1))*records.iloc[row]['支付金额']\n",
    "    else:\n",
    "        paid=((today.year-records.iloc[row]['开始日期：年'])*records.iloc[row]['每年交费次数']+today.month-records.iloc[row]['月']+1)*records.iloc[row]['支付金额']\n",
    "    total_payed.append(paid)\n",
    "total_payed\n",
    "# To be checked"
   ]
  },
  {
   "cell_type": "code",
   "execution_count": 56,
   "metadata": {},
   "outputs": [
    {
     "data": {
      "text/plain": [
       "2021"
      ]
     },
     "execution_count": 56,
     "metadata": {},
     "output_type": "execute_result"
    }
   ],
   "source": [
    "records.iloc[0]['开始日期：年']"
   ]
  },
  {
   "cell_type": "code",
   "execution_count": 54,
   "metadata": {},
   "outputs": [
    {
     "data": {
      "text/plain": [
       "False"
      ]
     },
     "execution_count": 54,
     "metadata": {},
     "output_type": "execute_result"
    }
   ],
   "source": [
    "row =0\n",
    "first_pay_date = datetime(records.iloc[row]['开始日期：年'], records.iloc[row]['月'], records.iloc[row]['日'])\n",
    "first_pay_date>today"
   ]
  },
  {
   "cell_type": "code",
   "execution_count": null,
   "metadata": {},
   "outputs": [],
   "source": []
  }
 ],
 "metadata": {
  "interpreter": {
   "hash": "1057b1375b0bbb9b6ee15685997311d9eb2c31dbed2ad5758db836b30dfa99d8"
  },
  "kernelspec": {
   "display_name": "Python 3",
   "language": "python",
   "name": "python3"
  },
  "language_info": {
   "codemirror_mode": {
    "name": "ipython",
    "version": 3
   },
   "file_extension": ".py",
   "mimetype": "text/x-python",
   "name": "python",
   "nbconvert_exporter": "python",
   "pygments_lexer": "ipython3",
   "version": "3.7.8"
  }
 },
 "nbformat": 4,
 "nbformat_minor": 4
}
